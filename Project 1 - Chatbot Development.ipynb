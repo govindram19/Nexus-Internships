{
  "nbformat": 4,
  "nbformat_minor": 0,
  "metadata": {
    "colab": {
      "provenance": []
    },
    "kernelspec": {
      "name": "python3",
      "display_name": "Python 3"
    },
    "language_info": {
      "name": "python"
    }
  },
  "cells": [
    {
      "cell_type": "code",
      "source": [
        "import random\n",
        "# So the chatbot starts off with a greeting message when summoned via chatbot() and then we can interact with it.\n",
        "# A list of a few questions I could think of.\n",
        "questions = [\n",
        "    \"What is your name?\",\n",
        "    \"How are you?\",\n",
        "    \"What is the weather like today?\",\n",
        "    \"What time is it?\",\n",
        "    \"Where are you from?\",\n",
        "    \"What is your favorite color?\",\n",
        "    \"Do you have any hobbies?\",\n",
        "    \"What is the capital of France?\",\n",
        "    \"Can you recommend a good restaurant?\",\n",
        "    \"How do I get to the nearest train station?\",\n",
        "    \"What is the meaning of life?\",\n",
        "    \"Tell me a joke.\"\n",
        "]\n",
        "\n",
        "answers = [\n",
        "    \"My name is Chatbot.\",\n",
        "    \"I'm doing well, thank you!\",\n",
        "    \"The weather is sunny today.\",\n",
        "    \"It's currently 2:30 PM.\",\n",
        "    \"I am from the Internet.\",\n",
        "    \"My favorite color is blue.\",\n",
        "    \"I enjoy chatting with people.\",\n",
        "    \"The capital of France is Paris.\",\n",
        "    \"I recommend trying out 'The Italian Kitchen'.\",\n",
        "    \"You can take bus number 10 to reach the train station.\",\n",
        "    \"The meaning of life is 42.\",\n",
        "    \"Why don't scientists trust atoms? Because they make up everything!\"\n",
        "]\n",
        "\n",
        "# Greeting function\n",
        "def greet():\n",
        "    greetings = [\n",
        "        \"Hello! How can I assist you today?\",\n",
        "        \"Hi there! How can I help you?\",\n",
        "        \"Welcome! What can I do for you?\"\n",
        "    ]\n",
        "    return random.choice(greetings)\n",
        "\n",
        "# Farewell message\n",
        "def farewell():\n",
        "    farewells = [\n",
        "        \"Goodbye! Have a great day!\",\n",
        "        \"Farewell! Take care!\",\n",
        "        \"Until next time! Goodbye!\"\n",
        "    ]\n",
        "    return random.choice(farewells)\n",
        "\n",
        "# Chatbot function\n",
        "def chatbot():\n",
        "    print(greet())\n",
        "    while True:\n",
        "        user_input = input(\"User: \")\n",
        "        if user_input.lower() == \"bye\":\n",
        "            print(farewell())\n",
        "            break\n",
        "        elif user_input in questions:\n",
        "            index = questions.index(user_input)\n",
        "            print(\"Chatbot:\", answers[index])\n",
        "        else:\n",
        "            print(\"Chatbot: I'm sorry, I didn't understand that. Can you please rephrase?\")\n",
        "\n",
        "chatbot()"
      ],
      "metadata": {
        "colab": {
          "base_uri": "https://localhost:8080/"
        },
        "id": "LWPYj13bfZ5Q",
        "outputId": "8f40f22f-edbc-43e8-b943-365a51ecd900"
      },
      "execution_count": 3,
      "outputs": [
        {
          "output_type": "stream",
          "name": "stdout",
          "text": [
            "Hello! How can I assist you today?\n",
            "User: What is your name?\n",
            "Chatbot: My name is Chatbot.\n",
            "User: How are you?\n",
            "Chatbot: I'm doing well, thank you!\n",
            "User: Where are you from?\n",
            "Chatbot: I am from the Internet.\n",
            "User: Do you have any hobbies?\n",
            "Chatbot: I enjoy chatting with people.\n",
            "User: What is the meaning of life?\n",
            "Chatbot: The meaning of life is 42.\n",
            "User: Tell me a joke.\n",
            "Chatbot: Why don't scientists trust atoms? Because they make up everything!\n",
            "User: What is your favorite color?\n",
            "Chatbot: My favorite color is blue.\n",
            "User: bye\n",
            "Farewell! Take care!\n"
          ]
        }
      ]
    },
    {
      "cell_type": "code",
      "source": [],
      "metadata": {
        "id": "o5ZvY4_8hgTp"
      },
      "execution_count": null,
      "outputs": []
    }
  ]
}